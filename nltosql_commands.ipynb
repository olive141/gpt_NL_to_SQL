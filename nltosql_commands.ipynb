{
 "cells": [
  {
   "attachments": {},
   "cell_type": "markdown",
   "metadata": {},
   "source": [
    "### This notebook demonstrates how to update sql tables using Natural Language\n",
    "\n"
   ]
  },
  {
   "cell_type": "code",
   "execution_count": 13,
   "metadata": {},
   "outputs": [],
   "source": [
    "# Install Packages\n",
    "import openai\n",
    "import pyodbc\n",
    "import pandas as pd\n",
    "import time\n",
    "import json"
   ]
  },
  {
   "attachments": {},
   "cell_type": "markdown",
   "metadata": {},
   "source": [
    "First, we set up Azure OpenAI and SQL Server"
   ]
  },
  {
   "cell_type": "code",
   "execution_count": 15,
   "metadata": {},
   "outputs": [],
   "source": [
    "def setup_configuration():   \n",
    "\n",
    "    with open(r'config.json') as config_file:\n",
    "        config_details = json.load(config_file)\n",
    "\n",
    "    API_KEY = config_details['OPENAI_API_KEY']  \n",
    "    RESOURCE_ENDPOINT = config_details['OPENAI_API_BASE']\n",
    "    API_VERSION = \"2023-05-15\"\n",
    "    \n",
    "    return API_KEY, RESOURCE_ENDPOINT, API_VERSION\n",
    "\n",
    "def run_sql_command(sql_upate): \n",
    "\n",
    "    with open(r'config.json') as config_file:\n",
    "        config_details = json.load(config_file)\n",
    "\n",
    "    database = config_details['DATABASE']  \n",
    "    server = config_details['SERVER']   \n",
    "    username = config_details['USER']  \n",
    "    password = config_details['PASSWORD']  \n",
    "\n",
    "    cnxn = pyodbc.connect('DRIVER={SQL Server};SERVER='+server+';DATABASE='+database+';UID='+username+';PWD='+ password)\n",
    "    cursor = cnxn.cursor()\n",
    "    cursor.execute(sql_upate)\n",
    "    cnxn.commit()\n",
    "\n",
    "openai.api_type = \"azure\"\n",
    "openai.api_key = setup_configuration()[0]\n",
    "openai.api_base = setup_configuration()[1]\n",
    "openai.api_version = setup_configuration()[2]\n"
   ]
  },
  {
   "attachments": {},
   "cell_type": "markdown",
   "metadata": {},
   "source": [
    "# Prompt Engineering"
   ]
  },
  {
   "cell_type": "code",
   "execution_count": 16,
   "metadata": {},
   "outputs": [],
   "source": [
    "def generate_nl_to_sql(prompt_in, history = []):\n",
    "    '''\n",
    "    This GPT engine is setup for NLtoSQL tasks on the Sales DB.\n",
    "    Input: NL question related to sales\n",
    "    Output: SQL update command to run on the sales database\n",
    "    '''\n",
    "\n",
    "    messages=[\n",
    "            {\"role\": \"system\", \"content\": \"\"\" \n",
    "            You are a SQL programmer Assistant.\n",
    "            Your role is to generate SQL code (SQL Server)\n",
    "            Never engage with user.\n",
    "            Only respond with plain SQL code            \n",
    "            Make sure to disambiguate column names when creating sql update commands that use more than one table. \n",
    "            If a valid SQL update command cannot be generated, only say \"ERROR:\" followed by why it cannot be generated.\n",
    "\n",
    "                  Use the following sales database schema to write SQL queries:\n",
    "                  Customers(cust_id INTEGER, cust_name VARCHAR, cust_email VARCHAR, cust_phone VARCHAR, cust_address VARCHAR, PRIMARY KEY (cust_id))\n",
    "                  Products(prod_id INTEGER,prod_name varchar, price FLOAT, category VARCHAR, PRIMARY KEY(prod_id))\n",
    "                  Stock(prod_id INTEGER, merchant_id INTEGER, stock INTEGER, PRIMARY KEY(prod_id, merchant_id), FOREIGN KEY(merchant_id, prod_id))\n",
    "                  Merchants(merchant_id INTEGER, merchant_name VARCHAR, merchant_region VARCHAR, merchant_address VARCHAR, PRIMARY KEY(merchant_id))\n",
    "                  Sales(sale_id INTEGER, cust_id INTEGER , merchant_id INTEGER , date TIMESTAMP, total_price FLOAT, PRIMARY KEY(sale_id),FOREIGN KEY(cust_id,merchant_id))\n",
    "                  Sales_Detail(sales_id INTEGER, prod_id INTEGER, quantity INTEGER, PRIMARY KEY(sales_id,prod_id), FOREIGN KEY(sales_id,prod_id))\n",
    "\n",
    "                  Examples:\n",
    "                  User:for customers with id=10 modify phone number to 555-555-5555\n",
    "                  Assistant : UPDATE Customers SET cust_phone = '555-555-5555' WHERE cust_id = 10;\n",
    "                  User: I see some products have invali price.  set price equals 0\n",
    "                  Assistant: UPDATE Products SET price = 0 WHERE price < 0;\n",
    "                  User: modify sales price that is not numerical.  assign the value 0\n",
    "                  Assistant: UPDATE Sales SET total_price = 0 WHERE ISNUMERIC(total_price) = 0;\n",
    "\n",
    "                \"\"\"}\n",
    "        ]\n",
    "\n",
    "    messages.extend(history)\n",
    "    messages.append({\"role\": \"user\", \"content\": prompt_in})\n",
    "    \n",
    "    response = openai.ChatCompletion.create(\n",
    "        engine=\"gpt-35-turbo\", \n",
    "        messages=messages,\n",
    "        temperature=0,\n",
    "        max_tokens=2000,\n",
    "        frequency_penalty=0,\n",
    "        presence_penalty=0,\n",
    "        stop=None\n",
    "    )\n",
    "    return response['choices'][0]['message']['content']"
   ]
  },
  {
   "attachments": {},
   "cell_type": "markdown",
   "metadata": {},
   "source": [
    "# Examples"
   ]
  },
  {
   "attachments": {},
   "cell_type": "markdown",
   "metadata": {},
   "source": [
    "Our user input is the NL question, as an output, Azure OpenAI generates as completion the SQL update commands we should run on the Sales database "
   ]
  },
  {
   "cell_type": "code",
   "execution_count": 19,
   "metadata": {},
   "outputs": [
    {
     "name": "stdout",
     "output_type": "stream",
     "text": [
      "UPDATE Customers SET cust_phone = '111-555-5555' WHERE cust_id = 10;\n"
     ]
    }
   ],
   "source": [
    "question_products = 'for customers with id=10 modify phone number to 111-555-5555'\n",
    "completion_products = generate_nl_to_sql(question_products)\n",
    "print(completion_products)"
   ]
  },
  {
   "attachments": {},
   "cell_type": "markdown",
   "metadata": {},
   "source": [
    "We run the SQL query on our database. We retrive the information as a pandas dataframe"
   ]
  },
  {
   "cell_type": "code",
   "execution_count": 20,
   "metadata": {},
   "outputs": [
    {
     "name": "stdout",
     "output_type": "stream",
     "text": [
      "None\n"
     ]
    }
   ],
   "source": [
    "sql_output_products = run_sql_command(completion_products)\n",
    "print(sql_output_products)"
   ]
  },
  {
   "cell_type": "code",
   "execution_count": 10,
   "metadata": {},
   "outputs": [
    {
     "name": "stdout",
     "output_type": "stream",
     "text": [
      "UPDATE Merchants SET merchant_address = REPLACE(merchant_address, 'Blvd', 'Boulevard');\n"
     ]
    }
   ],
   "source": [
    "question_products = 'for merchant replace Blvd witn Boulevard'\n",
    "completion_products = generate_nl_to_sql(question_products)\n",
    "print(completion_products)"
   ]
  },
  {
   "cell_type": "code",
   "execution_count": 11,
   "metadata": {},
   "outputs": [
    {
     "name": "stdout",
     "output_type": "stream",
     "text": [
      "None\n"
     ]
    }
   ],
   "source": [
    "sql_output_products = run_sql_command(completion_products)\n",
    "print(sql_output_products)"
   ]
  }
 ],
 "metadata": {
  "kernelspec": {
   "display_name": "Python 3",
   "language": "python",
   "name": "python3"
  },
  "language_info": {
   "codemirror_mode": {
    "name": "ipython",
    "version": 3
   },
   "file_extension": ".py",
   "mimetype": "text/x-python",
   "name": "python",
   "nbconvert_exporter": "python",
   "pygments_lexer": "ipython3",
   "version": "3.10.11"
  }
 },
 "nbformat": 4,
 "nbformat_minor": 2
}
